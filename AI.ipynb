{
 "cells": [
  {
   "cell_type": "code",
   "execution_count": 3,
   "metadata": {
    "collapsed": false
   },
   "outputs": [
    {
     "name": "stdout",
     "output_type": "stream",
     "text": [
      "route [(0, 0), (1, 1), (2, 2), (3, 1), (4, 1), (5, 1), (6, 2), (7, 3), (6, 4), (7, 5), (6, 6), (7, 7)]\n",
      "cost 11\n"
     ]
    },
    {
     "data": {
      "image/png": "[encoded data removed]",
      "text/plain": [
       "<matplotlib.figure.Figure at 0x21bb683e160>"
      ]
     },
     "metadata": {},
     "output_type": "display_data"
    }
   ],
   "source": [
    "from __future__ import print_function\n",
    "import matplotlib.pyplot as plt\n",
    " \n",
    "class AStarGraph(object):\n",
    "\n",
    " \n",
    "    def __init__(self):\n",
    "        self.barriers = []\n",
    "        self.barriers.append([(2,4),(2,5),(2,6),(3,6),(4,6),(5,6),(5,5),(5,4),(5,3),(5,2),(4,2),(3,2)])\n",
    " \n",
    "    def heuristic(self, start, goal):\n",
    "\n",
    "            B = 1\n",
    "            B2 = 1\n",
    "            dx = abs(start[0] - goal[0])\n",
    "            dy = abs(start[1] - goal[1])\n",
    "            return B * (dx + dy) + (B2 - 2 * B) * min(dx, dy)\n",
    " \n",
    "    def get_vertex_neighbours(self, pos):\n",
    "            n = []\n",
    "            \n",
    "            for dx, dy in [(1,0),(-1,0),(0,1),(0,-1),(1,1),(-1,1),(1,-1),(-1,-1)]:\n",
    "                x2 = pos[0] + dx\n",
    "                y2 = pos[1] + dy\n",
    "                if x2 < 0 or x2 > 7 or y2 < 0 or y2 > 7:\n",
    "                    continue\n",
    "                n.append((x2, y2))\n",
    "            return n\n",
    " \n",
    "    def move_cost(self, a, b):\n",
    "            for barrier in self.barriers:\n",
    "                if b in barrier:\n",
    "                    return 100\n",
    "            return 1 \n",
    " \n",
    "def AStarSearch(start, end, graph):\n",
    " \n",
    "        G = {}\n",
    "        F = {} \n",
    "\n",
    "        \n",
    "        G[start] = 0 \n",
    "        F[start] = graph.heuristic(start, end)\n",
    "\n",
    "        closedVertices = set()\n",
    "        openVertices = set([start])\n",
    "        cameFrom = {}\n",
    "\n",
    "        while len(openVertices) > 0:\n",
    "            #Get the vertex in the open list with the lowest F score\n",
    "            current = None\n",
    "            currentFscore = None\n",
    "            for pos in openVertices:\n",
    "                if current is None or F[pos] < currentFscore:\n",
    "                    currentFscore = F[pos]\n",
    "                    current = pos\n",
    "\n",
    "            \n",
    "            if current == end:\n",
    "                \n",
    "                path = [current]\n",
    "                while current in cameFrom:\n",
    "                    current = cameFrom[current]\n",
    "                    path.append(current)\n",
    "                path.reverse()\n",
    "                return path, F[end] \n",
    " \n",
    "           \n",
    "            openVertices.remove(current)\n",
    "            closedVertices.add(current)\n",
    "\n",
    "            \n",
    "            for neighbour in graph.get_vertex_neighbours(current):\n",
    "                if neighbour in closedVertices: \n",
    "                    continue \n",
    "                candidateG = G[current] + graph.move_cost(current, neighbour)\n",
    "\n",
    "                if neighbour not in openVertices:\n",
    "                    openVertices.add(neighbour) \n",
    "                elif candidateG >= G[neighbour]:\n",
    "                    continue \n",
    "\n",
    "                \n",
    "                cameFrom[neighbour] = current\n",
    "                G[neighbour] = candidateG\n",
    "                H = graph.heuristic(neighbour, end)\n",
    "                F[neighbour] = G[neighbour] + H\n",
    " \n",
    "        raise RuntimeError(\"A* failed to find a solution\")\n",
    " \n",
    "if __name__==\"__main__\":\n",
    "        graph = AStarGraph()\n",
    "        result, cost = AStarSearch((0,0), (7,7), graph)\n",
    "        print (\"route\", result)\n",
    "        print (\"cost\", cost)\n",
    "        plt.plot([v[0] for v in result], [v[1] for v in result])\n",
    "        for barrier in graph.barriers:\n",
    "            plt.plot([v[0] for v in barrier], [v[1] for v in barrier])\n",
    "        plt.xlim(-1,8)\n",
    "        plt.ylim(-1,8)\n",
    "        plt.show()"
   ]
  },
  {
   "cell_type": "code",
   "execution_count": null,
   "metadata": {
    "collapsed": false
   },
   "outputs": [],
   "source": []
  },
  {
   "cell_type": "code",
   "execution_count": null,
   "metadata": {
    "collapsed": true
   },
   "outputs": [],
   "source": []
  }
 ],
 "metadata": {
  "kernelspec": {
   "display_name": "Python 3",
   "language": "python",
   "name": "python3"
  },
  "language_info": {
   "codemirror_mode": {
    "name": "ipython",
    "version": 3
   },
   "file_extension": ".py",
   "mimetype": "text/x-python",
   "name": "python",
   "nbconvert_exporter": "python",
   "pygments_lexer": "ipython3",
   "version": "3.6.0"
  }
 },
 "nbformat": 4,
 "nbformat_minor": 2
}
